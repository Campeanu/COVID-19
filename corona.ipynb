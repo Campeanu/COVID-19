{
 "cells": [
  {
   "cell_type": "markdown",
   "metadata": {},
   "source": [
    "# COVID-19"
   ]
  },
  {
   "cell_type": "markdown",
   "metadata": {},
   "source": [
    "### Quick demo for Pytraj and NGLView"
   ]
  },
  {
   "cell_type": "code",
   "execution_count": 108,
   "metadata": {},
   "outputs": [
    {
     "data": {
      "application/vnd.jupyter.widget-view+json": {
       "model_id": "e53287af64eb45f1a36d707dccf79588",
       "version_major": 2,
       "version_minor": 0
      },
      "text/plain": [
       "NGLWidget(max_frame=50)"
      ]
     },
     "metadata": {},
     "output_type": "display_data"
    }
   ],
   "source": [
    "import pytraj  as pt\n",
    "import nglview as nv\n",
    "\n",
    "traj = pt.load(nv.datafiles.TRR, top=nv.datafiles.PDB)\n",
    "view = nv.show_pytraj(traj)\n",
    "view"
   ]
  },
  {
   "cell_type": "code",
   "execution_count": 107,
   "metadata": {},
   "outputs": [
    {
     "data": {
      "application/vnd.jupyter.widget-view+json": {
       "model_id": "37eea8ee26b04bedbac025312268de8b",
       "version_major": 2,
       "version_minor": 0
      },
      "text/plain": [
       "NGLWidget()"
      ]
     },
     "metadata": {},
     "output_type": "display_data"
    }
   ],
   "source": [
    "import nglview\n",
    "\n",
    "view = nglview.show_pdbid(\"3pqr\")  # load \"3pqr\" from RCSB PDB and display viewer widget\n",
    "view"
   ]
  },
  {
   "cell_type": "code",
   "execution_count": 19,
   "metadata": {},
   "outputs": [
    {
     "name": "stdout",
     "output_type": "stream",
     "text": [
      "The autoreload extension is already loaded. To reload it, use:\n",
      "  %reload_ext autoreload\n"
     ]
    }
   ],
   "source": [
    "# import autoreload\n",
    "# ?autoreload\n",
    "\n",
    "%load_ext autoreload\n",
    "%autoreload 2"
   ]
  },
  {
   "cell_type": "code",
   "execution_count": 58,
   "metadata": {},
   "outputs": [],
   "source": [
    "import lzma\n",
    "\n",
    "# sarscov2_basePair\n",
    "from data.sarscov2_data import sarscov2_basePair\n",
    "\n",
    "sarscov2_basePair_lenght = len(sarscov2_basePair)\n",
    "cost_to_sintezize = sarscov2_basePair_lenght * 0.10 \n",
    "\n",
    "# Kolmogrov complexity - copressing algorithm\n",
    "sarscov2_basePair_compressed_lenght = len(lzma.compress(sarscov2_basePair.encode(\"utf-8\"))) # 8.4kb\n",
    "\n",
    "# sars\n",
    "from data.sarscov2_data import sars\n",
    "sars_lenght = len(sars)\n",
    "cost_to_sintezize = sars_lenght * 0.10 \n",
    "\n",
    "# Kolmogrov complexity - copressing algorithm\n",
    "sars_compremv sssed_lenght = len(lzma.compress(sars.encode(\"utf-8\"))) # 8.4kb"
   ]
  },
  {
   "cell_type": "code",
   "execution_count": 63,
   "metadata": {},
   "outputs": [],
   "source": [
    "# sarscov2_basePair # genom_1\n",
    "# sars              # genom_2"
   ]
  },
  {
   "cell_type": "code",
   "execution_count": 111,
   "metadata": {},
   "outputs": [],
   "source": [
    "from lib_sarscov2 import *\n",
    "\n",
    "# Translation from nitrogenous bases to amino acids\n",
    "# translate(sarscov2_basePair)"
   ]
  }
 ],
 "metadata": {
  "kernelspec": {
   "display_name": "Python 3",
   "language": "python",
   "name": "python3"
  },
  "language_info": {
   "codemirror_mode": {
    "name": "ipython",
    "version": 3
   },
   "file_extension": ".py",
   "mimetype": "text/x-python",
   "name": "python",
   "nbconvert_exporter": "python",
   "pygments_lexer": "ipython3",
   "version": "3.7.7"
  }
 },
 "nbformat": 4,
 "nbformat_minor": 4
}
